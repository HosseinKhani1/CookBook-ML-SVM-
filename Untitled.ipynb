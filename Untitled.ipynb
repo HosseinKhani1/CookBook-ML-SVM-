{
 "cells": [
  {
   "cell_type": "markdown",
   "id": "senior-luther",
   "metadata": {},
   "source": [
    "# This is a test"
   ]
  },
  {
   "cell_type": "markdown",
   "id": "peripheral-family",
   "metadata": {},
   "source": [
    "I am going to write about SVMs in machine learning."
   ]
  },
  {
   "cell_type": "markdown",
   "id": "worst-satin",
   "metadata": {},
   "source": [
    "$||x||=\\sqrt{x_1^2+x_2^2+...+x_n^2}$"
   ]
  },
  {
   "cell_type": "markdown",
   "id": "beneficial-times",
   "metadata": {},
   "source": []
  }
 ],
 "metadata": {
  "kernelspec": {
   "display_name": "Python 3",
   "language": "python",
   "name": "python3"
  },
  "language_info": {
   "codemirror_mode": {
    "name": "ipython",
    "version": 3
   },
   "file_extension": ".py",
   "mimetype": "text/x-python",
   "name": "python",
   "nbconvert_exporter": "python",
   "pygments_lexer": "ipython3",
   "version": "3.7.7"
  }
 },
 "nbformat": 4,
 "nbformat_minor": 5
}
